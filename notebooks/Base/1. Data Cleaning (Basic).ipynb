{
 "cells": [
  {
   "cell_type": "markdown",
   "id": "9c0ac82d",
   "metadata": {},
   "source": [
    "## Business: Understanding the business problem"
   ]
  },
  {
   "cell_type": "markdown",
   "id": "14dba023",
   "metadata": {},
   "source": [
    "**Problem statement**: Our task is to predict ride requests (demand forecast) - (for a specific latitude and longitude) and (for a specific future time window).\n",
    "\n",
    "**Business objective**: is to directly (increase revenue and improve customer satisfaction) through demand fulfillment.\n",
    "\n",
    "**Dataset**: Dataset we are going to use contains (8381556) ride requests made by (94274) users and this dataset was collected over the time period of the past year (data collected over the time period of 12 months). \n",
    "\n",
    "**Dataset description**: Dataset is based on the logs with contains the following features:\n",
    "- 'number' (user id) = it represents the user id and (it's unique for every user)\n",
    "- 'ts' (booking timestamp) - it represents the (time and date) when the booking was made\n",
    "- 'pick_lat' (pickup location latitude) & 'pick_lng' (pickup location longitude) - location from which the user wants the driver to come to pick him up\n",
    "- 'drop_lat' (drop location latitude) & 'drop_lng' (drop location longitude) - location to which the user wants the driver to drive him to drop him\n",
    "\n",
    "To help us solve this problem, management of the company provided us some guidelines on what the definition of a good ride request is:\n",
    "- Count only 1 ride request by a user, if there are multiple bookings from the same latitude and longitude within 1 hour of the last booking time\n",
    "    - Reason for this suggestion is: Based on the logs, the management team have noticed that very often a user would repeatedly book a ride based on the arrival time. Meaning that after a user books a ride, if the arrival time is too long, then they would re-try booking a ride several times again in an attempt to shorten the arrival time if another driver gets allocated. Another scenario they have noticed is that after users book a ride, if they see a low driver rating or a car they dislike, then they cancel the booking and book again. Consequently, the logs data contain a lot of duplicate rides from the same user and with same pickup and drop locations. So, we must remove those duplicate entries.\n",
    "- If there're ride requests within 8 minuntes of the last booking time, consider only 1 ride request from a user (latitude and longitude may or may not be the same)\n",
    "- If the geodesic distances from (pickup point and drop point) is les than 50 meters, consider that ride request as a fraud ride request.\n",
    "- Consider ride requests where pick up/drop location is outside India bounding box: ['6.2325274', '35.6745457', '68.1113787', '97.395561'] as system error\n",
    "- Karnataka is our prime city where we have a lot of drivers and ride requests to fulfill. We would not love to serve rides that are outside Karnataka and have pickup and drop geodesic distance > 500kms. Karnataka bounding box ['11.5945587', '18.4767308','74.0543908', '78.588083']"
   ]
  },
  {
   "cell_type": "markdown",
   "id": "60b0f716",
   "metadata": {},
   "source": [
    "Based on the definition of a good ride request that the management team have given us, we're going to perform data preprocessing to only pick the set of data with good ride requests which will then be used for training our machine learning model.\n",
    "\n",
    "Company have given us data that ranges from 2020-03-26 (26th March 2020) to 2021-03-26 (26th March 2021). For deployment of the model we must build a prediction pipeline which we will use to evaluate our model by making a prediction for 2021-03-27 (26th March 2021)."
   ]
  },
  {
   "cell_type": "markdown",
   "id": "aa72a4b6",
   "metadata": {},
   "source": [
    "## Theory: Project flow and structure\n",
    "\n",
    "1. Data exploration\n",
    "2. Data preprocessing\n",
    "3. Data preparation\n",
    "4. Modelling and predict"
   ]
  },
  {
   "cell_type": "markdown",
   "id": "6c0cb5de",
   "metadata": {},
   "source": [
    "## Theory: Multi-step time-series forecasting"
   ]
  },
  {
   "cell_type": "markdown",
   "id": "761f9ffe",
   "metadata": {},
   "source": [
    "To solve this problem for time series demand forecasting we firstly need to know what multi-step time series is.\n",
    "\n",
    "This problem of predicting driver hours is a multi-step time series problem.\n",
    "\n",
    "Multistep-ahead prediction is the task of predicting a sequence of values in a time series. Typical approach, known as multi-stage prediction, is to apply a predictive model step-by-step and use the predicted value of the current time step to determine its value in the next time step.\n",
    "\n",
    "(TODO)"
   ]
  },
  {
   "cell_type": "code",
   "execution_count": 41,
   "id": "6dd55f5c",
   "metadata": {},
   "outputs": [],
   "source": [
    "import pandas as pd\n",
    "from IPython.display import display\n",
    "\n",
    "df = pd.read_csv(\"../../data/raw_data.csv\", low_memory=False, compression='gzip', parse_dates=[\"ts\"])"
   ]
  },
  {
   "cell_type": "code",
   "execution_count": 42,
   "id": "f82abcd5",
   "metadata": {},
   "outputs": [
    {
     "data": {
      "text/html": [
       "<div>\n",
       "<style scoped>\n",
       "    .dataframe tbody tr th:only-of-type {\n",
       "        vertical-align: middle;\n",
       "    }\n",
       "\n",
       "    .dataframe tbody tr th {\n",
       "        vertical-align: top;\n",
       "    }\n",
       "\n",
       "    .dataframe thead th {\n",
       "        text-align: right;\n",
       "    }\n",
       "</style>\n",
       "<table border=\"1\" class=\"dataframe\">\n",
       "  <thead>\n",
       "    <tr style=\"text-align: right;\">\n",
       "      <th></th>\n",
       "      <th>ts</th>\n",
       "      <th>number</th>\n",
       "      <th>pick_lat</th>\n",
       "      <th>pick_lng</th>\n",
       "      <th>drop_lat</th>\n",
       "      <th>drop_lng</th>\n",
       "    </tr>\n",
       "  </thead>\n",
       "  <tbody>\n",
       "    <tr>\n",
       "      <th>0</th>\n",
       "      <td>2020-03-26 07:07:17</td>\n",
       "      <td>14626</td>\n",
       "      <td>12.313621</td>\n",
       "      <td>76.658195</td>\n",
       "      <td>12.287301</td>\n",
       "      <td>76.602280</td>\n",
       "    </tr>\n",
       "    <tr>\n",
       "      <th>1</th>\n",
       "      <td>2020-03-26 07:32:27</td>\n",
       "      <td>85490</td>\n",
       "      <td>12.943947</td>\n",
       "      <td>77.560745</td>\n",
       "      <td>12.954014</td>\n",
       "      <td>77.543770</td>\n",
       "    </tr>\n",
       "    <tr>\n",
       "      <th>2</th>\n",
       "      <td>2020-03-26 07:36:44</td>\n",
       "      <td>05408</td>\n",
       "      <td>12.899603</td>\n",
       "      <td>77.587300</td>\n",
       "      <td>12.934780</td>\n",
       "      <td>77.569950</td>\n",
       "    </tr>\n",
       "    <tr>\n",
       "      <th>3</th>\n",
       "      <td>2020-03-26 07:38:00</td>\n",
       "      <td>58940</td>\n",
       "      <td>12.918229</td>\n",
       "      <td>77.607544</td>\n",
       "      <td>12.968971</td>\n",
       "      <td>77.636375</td>\n",
       "    </tr>\n",
       "    <tr>\n",
       "      <th>4</th>\n",
       "      <td>2020-03-26 07:39:29</td>\n",
       "      <td>05408</td>\n",
       "      <td>12.899490</td>\n",
       "      <td>77.587270</td>\n",
       "      <td>12.934780</td>\n",
       "      <td>77.569950</td>\n",
       "    </tr>\n",
       "  </tbody>\n",
       "</table>\n",
       "</div>"
      ],
      "text/plain": [
       "                   ts number   pick_lat   pick_lng   drop_lat   drop_lng\n",
       "0 2020-03-26 07:07:17  14626  12.313621  76.658195  12.287301  76.602280\n",
       "1 2020-03-26 07:32:27  85490  12.943947  77.560745  12.954014  77.543770\n",
       "2 2020-03-26 07:36:44  05408  12.899603  77.587300  12.934780  77.569950\n",
       "3 2020-03-26 07:38:00  58940  12.918229  77.607544  12.968971  77.636375\n",
       "4 2020-03-26 07:39:29  05408  12.899490  77.587270  12.934780  77.569950"
      ]
     },
     "metadata": {},
     "output_type": "display_data"
    },
    {
     "data": {
      "text/plain": [
       "(8381556, 6)"
      ]
     },
     "metadata": {},
     "output_type": "display_data"
    }
   ],
   "source": [
    "display(df.head())\n",
    "display(df.shape)"
   ]
  },
  {
   "cell_type": "markdown",
   "id": "9df0a3de",
   "metadata": {},
   "source": [
    "### Data cleaning "
   ]
  },
  {
   "cell_type": "code",
   "execution_count": 43,
   "id": "a4e9a346",
   "metadata": {},
   "outputs": [
    {
     "name": "stdout",
     "output_type": "stream",
     "text": [
      "<class 'pandas.core.frame.DataFrame'>\n",
      "RangeIndex: 8381556 entries, 0 to 8381555\n",
      "Data columns (total 6 columns):\n",
      " #   Column    Dtype         \n",
      "---  ------    -----         \n",
      " 0   ts        datetime64[ns]\n",
      " 1   number    object        \n",
      " 2   pick_lat  float64       \n",
      " 3   pick_lng  float64       \n",
      " 4   drop_lat  float64       \n",
      " 5   drop_lng  float64       \n",
      "dtypes: datetime64[ns](1), float64(4), object(1)\n",
      "memory usage: 383.7+ MB\n"
     ]
    }
   ],
   "source": [
    "df.info()"
   ]
  },
  {
   "cell_type": "markdown",
   "id": "8ab8a57d",
   "metadata": {},
   "source": [
    "Since 'number' is a numeric unique identifier of user, it must be a number rather than an object, so changing its type."
   ]
  },
  {
   "cell_type": "code",
   "execution_count": 48,
   "id": "3a487947",
   "metadata": {},
   "outputs": [],
   "source": [
    "df[\"number\"] = pd.to_numeric(df[\"number\"], errors=\"coerce\")"
   ]
  },
  {
   "cell_type": "code",
   "execution_count": 50,
   "id": "b5032fde",
   "metadata": {},
   "outputs": [
    {
     "name": "stdout",
     "output_type": "stream",
     "text": [
      "<class 'pandas.core.frame.DataFrame'>\n",
      "RangeIndex: 8381556 entries, 0 to 8381555\n",
      "Data columns (total 6 columns):\n",
      " #   Column    Dtype         \n",
      "---  ------    -----         \n",
      " 0   ts        datetime64[ns]\n",
      " 1   number    float64       \n",
      " 2   pick_lat  float64       \n",
      " 3   pick_lng  float64       \n",
      " 4   drop_lat  float64       \n",
      " 5   drop_lng  float64       \n",
      "dtypes: datetime64[ns](1), float64(5)\n",
      "memory usage: 383.7 MB\n"
     ]
    }
   ],
   "source": [
    "df.info()"
   ]
  },
  {
   "cell_type": "markdown",
   "id": "6f0ddc16",
   "metadata": {},
   "source": [
    "**Step 1**: Same customer cannot book a ride multiple times at the same timestamp (these duplicates may of appeared due to system logging issues)\n",
    "\n",
    "Removing duplicate entries [\"ts\", \"number\"] as a CustomerID (\"number\") at a particular timestamp (\"ts\") can only have one entry"
   ]
  },
  {
   "cell_type": "code",
   "execution_count": 34,
   "id": "5282a881",
   "metadata": {},
   "outputs": [
    {
     "name": "stdout",
     "output_type": "stream",
     "text": [
      "113540\n"
     ]
    }
   ],
   "source": [
    "duplicates = df[df.duplicated(subset=[\"ts\", \"number\"], keep=False)]\n",
    "print(duplicates.shape[0])"
   ]
  },
  {
   "cell_type": "markdown",
   "id": "19a3100c",
   "metadata": {},
   "source": [
    "There're are 113540 duplicate entries. So, we will remove these duplicate entries (but keeping the last occurence)"
   ]
  },
  {
   "cell_type": "code",
   "execution_count": 38,
   "id": "91ef363d",
   "metadata": {},
   "outputs": [
    {
     "data": {
      "text/plain": [
       "8315498"
      ]
     },
     "metadata": {},
     "output_type": "display_data"
    }
   ],
   "source": [
    "df.drop_duplicates(subset=[\"ts\", \"number\"], inplace=True, keep=\"last\")\n",
    "df.reset_index(inplace=True, drop=True)\n",
    "display(df.shape[0])"
   ]
  },
  {
   "cell_type": "markdown",
   "id": "a01bcac4",
   "metadata": {},
   "source": [
    "**Step 2**: Handling missing values \n",
    "\n",
    "Let's see if we have any missing values in our dataset"
   ]
  },
  {
   "cell_type": "code",
   "execution_count": 49,
   "id": "5ae1234c",
   "metadata": {},
   "outputs": [
    {
     "data": {
      "text/plain": [
       "ts            0\n",
       "number      121\n",
       "pick_lat      0\n",
       "pick_lng      0\n",
       "drop_lat      0\n",
       "drop_lng      0\n",
       "dtype: int64"
      ]
     },
     "execution_count": 49,
     "metadata": {},
     "output_type": "execute_result"
    }
   ],
   "source": [
    "df.isnull().sum()"
   ]
  },
  {
   "cell_type": "markdown",
   "id": "d0c6a8d3",
   "metadata": {},
   "source": [
    "We see that we have 121 missing values in the 'number' column, which the unique identifier of each user.\n",
    "\n",
    "To handle missing values, we have 3 possible options:\n",
    "- Drop the entries with missing values\n",
    "- Drop the column which contains missing values\n",
    "- Impute the missing values\n",
    "\n",
    "Dropping the column of user identifier is not possible for our use case. Imputing the missing values with mode/mean/median would simply not make any sense as it is an identifier. So, they only option we have is to drop the entries with missing values. Furthermore, taking into account that we have over 8300000 entries, dropping 121 of them will unlikely have any great negative effect on performance of our model."
   ]
  },
  {
   "cell_type": "code",
   "execution_count": 52,
   "id": "00b895fd",
   "metadata": {},
   "outputs": [
    {
     "data": {
      "text/plain": [
       "8381435"
      ]
     },
     "metadata": {},
     "output_type": "display_data"
    }
   ],
   "source": [
    "df.dropna(inplace=True, subset=[\"number\"])\n",
    "display(df.shape[0])"
   ]
  },
  {
   "cell_type": "markdown",
   "id": "83e0a65f",
   "metadata": {},
   "source": [
    "### Breaking time feature into various features"
   ]
  },
  {
   "cell_type": "code",
   "execution_count": 53,
   "id": "e6c08ecb",
   "metadata": {},
   "outputs": [],
   "source": [
    "df['hour'] = df['ts'].dt.hour\n",
    "df['minute'] = df['ts'].dt.minute\n",
    "df['day'] = df['ts'].dt.day\n",
    "df['month'] = df['ts'].dt.month\n",
    "df['year'] = df['ts'].dt.year\n",
    "df['dayofweek'] = df['ts'].dt.dayofweek"
   ]
  },
  {
   "cell_type": "code",
   "execution_count": 54,
   "id": "5fea15a0",
   "metadata": {},
   "outputs": [
    {
     "data": {
      "text/html": [
       "<div>\n",
       "<style scoped>\n",
       "    .dataframe tbody tr th:only-of-type {\n",
       "        vertical-align: middle;\n",
       "    }\n",
       "\n",
       "    .dataframe tbody tr th {\n",
       "        vertical-align: top;\n",
       "    }\n",
       "\n",
       "    .dataframe thead th {\n",
       "        text-align: right;\n",
       "    }\n",
       "</style>\n",
       "<table border=\"1\" class=\"dataframe\">\n",
       "  <thead>\n",
       "    <tr style=\"text-align: right;\">\n",
       "      <th></th>\n",
       "      <th>ts</th>\n",
       "      <th>number</th>\n",
       "      <th>pick_lat</th>\n",
       "      <th>pick_lng</th>\n",
       "      <th>drop_lat</th>\n",
       "      <th>drop_lng</th>\n",
       "      <th>hour</th>\n",
       "      <th>minute</th>\n",
       "      <th>day</th>\n",
       "      <th>month</th>\n",
       "      <th>year</th>\n",
       "      <th>dayofweek</th>\n",
       "    </tr>\n",
       "  </thead>\n",
       "  <tbody>\n",
       "    <tr>\n",
       "      <th>0</th>\n",
       "      <td>2020-03-26 07:07:17</td>\n",
       "      <td>14626.0</td>\n",
       "      <td>12.313621</td>\n",
       "      <td>76.658195</td>\n",
       "      <td>12.287301</td>\n",
       "      <td>76.602280</td>\n",
       "      <td>7</td>\n",
       "      <td>7</td>\n",
       "      <td>26</td>\n",
       "      <td>3</td>\n",
       "      <td>2020</td>\n",
       "      <td>3</td>\n",
       "    </tr>\n",
       "    <tr>\n",
       "      <th>1</th>\n",
       "      <td>2020-03-26 07:32:27</td>\n",
       "      <td>85490.0</td>\n",
       "      <td>12.943947</td>\n",
       "      <td>77.560745</td>\n",
       "      <td>12.954014</td>\n",
       "      <td>77.543770</td>\n",
       "      <td>7</td>\n",
       "      <td>32</td>\n",
       "      <td>26</td>\n",
       "      <td>3</td>\n",
       "      <td>2020</td>\n",
       "      <td>3</td>\n",
       "    </tr>\n",
       "    <tr>\n",
       "      <th>2</th>\n",
       "      <td>2020-03-26 07:36:44</td>\n",
       "      <td>5408.0</td>\n",
       "      <td>12.899603</td>\n",
       "      <td>77.587300</td>\n",
       "      <td>12.934780</td>\n",
       "      <td>77.569950</td>\n",
       "      <td>7</td>\n",
       "      <td>36</td>\n",
       "      <td>26</td>\n",
       "      <td>3</td>\n",
       "      <td>2020</td>\n",
       "      <td>3</td>\n",
       "    </tr>\n",
       "    <tr>\n",
       "      <th>3</th>\n",
       "      <td>2020-03-26 07:38:00</td>\n",
       "      <td>58940.0</td>\n",
       "      <td>12.918229</td>\n",
       "      <td>77.607544</td>\n",
       "      <td>12.968971</td>\n",
       "      <td>77.636375</td>\n",
       "      <td>7</td>\n",
       "      <td>38</td>\n",
       "      <td>26</td>\n",
       "      <td>3</td>\n",
       "      <td>2020</td>\n",
       "      <td>3</td>\n",
       "    </tr>\n",
       "    <tr>\n",
       "      <th>4</th>\n",
       "      <td>2020-03-26 07:39:29</td>\n",
       "      <td>5408.0</td>\n",
       "      <td>12.899490</td>\n",
       "      <td>77.587270</td>\n",
       "      <td>12.934780</td>\n",
       "      <td>77.569950</td>\n",
       "      <td>7</td>\n",
       "      <td>39</td>\n",
       "      <td>26</td>\n",
       "      <td>3</td>\n",
       "      <td>2020</td>\n",
       "      <td>3</td>\n",
       "    </tr>\n",
       "  </tbody>\n",
       "</table>\n",
       "</div>"
      ],
      "text/plain": [
       "                   ts   number   pick_lat   pick_lng   drop_lat   drop_lng  \\\n",
       "0 2020-03-26 07:07:17  14626.0  12.313621  76.658195  12.287301  76.602280   \n",
       "1 2020-03-26 07:32:27  85490.0  12.943947  77.560745  12.954014  77.543770   \n",
       "2 2020-03-26 07:36:44   5408.0  12.899603  77.587300  12.934780  77.569950   \n",
       "3 2020-03-26 07:38:00  58940.0  12.918229  77.607544  12.968971  77.636375   \n",
       "4 2020-03-26 07:39:29   5408.0  12.899490  77.587270  12.934780  77.569950   \n",
       "\n",
       "   hour  minute  day  month  year  dayofweek  \n",
       "0     7       7   26      3  2020          3  \n",
       "1     7      32   26      3  2020          3  \n",
       "2     7      36   26      3  2020          3  \n",
       "3     7      38   26      3  2020          3  \n",
       "4     7      39   26      3  2020          3  "
      ]
     },
     "execution_count": 54,
     "metadata": {},
     "output_type": "execute_result"
    }
   ],
   "source": [
    "df.head()"
   ]
  },
  {
   "cell_type": "code",
   "execution_count": 57,
   "id": "c27cce86",
   "metadata": {
    "scrolled": true
   },
   "outputs": [],
   "source": [
    "import os \n",
    "\n",
    "try:\n",
    "    os.mkdir(\"../../output\")\n",
    "except:\n",
    "    pass\n",
    "\n",
    "df.to_csv(\"../../output/preprocessed_1.csv\", index=False, compression=\"gzip\")"
   ]
  }
 ],
 "metadata": {
  "kernelspec": {
   "display_name": "Python 3 (ipykernel)",
   "language": "python",
   "name": "python3"
  },
  "language_info": {
   "codemirror_mode": {
    "name": "ipython",
    "version": 3
   },
   "file_extension": ".py",
   "mimetype": "text/x-python",
   "name": "python",
   "nbconvert_exporter": "python",
   "pygments_lexer": "ipython3",
   "version": "3.9.12"
  }
 },
 "nbformat": 4,
 "nbformat_minor": 5
}
