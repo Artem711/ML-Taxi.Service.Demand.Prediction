{
 "cells": [
  {
   "cell_type": "markdown",
   "id": "fa58e116",
   "metadata": {},
   "source": [
    "**Problem statement**: Our task is to predict ride requests (demand forecast) - (for a specific latitude and longitude) and (for a specific future time window).\n",
    "\n",
    "**Business objective**: is to directly (increase revenue and improve customer satisfaction) through demand fulfillment.\n",
    "\n",
    "**Dataset**: Dataset we are going to use contains (8381556) ride requests made by (94274) users and this dataset was collected over the time period of the past year (data collected over the time period of 12 months). \n",
    "\n",
    "**Dataset description**: Dataset is based on the logs with contains the following features:\n",
    "- 'number' (user id) = it represents the user id and (it's unique for every user)\n",
    "- 'ts' (booking timestamp) - it represents the (time and date) when the booking was made\n",
    "- 'pick_lat' (pickup location latitude) & 'pick_lng' (pickup location longitude) - location from which the user wants the driver to come to pick him up\n",
    "- 'drop_lat' (drop location latitude) & 'drop_lng' (drop location longitude) - location to which the user wants the driver to drive him to drop him\n",
    "\n",
    "To help us solve this problem, management of the company provided us some guidelines on what the definition of a good ride request is:\n",
    "- Count only 1 ride request by a user, if there are multiple bookings from the same latitude and longitude within 1 hour of the last booking time\n",
    "    - Reason for this suggestion is: Based on the logs, the management team have noticed that very often a user would repeatedly book a ride based on the arrival time. Meaning that after a user books a ride, if the arrival time is too long, then they would re-try booking a ride several times again in an attempt to shorten the arrival time if another driver gets allocated. Another scenario they have noticed is that after users book a ride, if they see a low driver rating or a car they dislike, then they cancel the booking and book again. Consequently, the logs data contain a lot of duplicate rides from the same user and with same pickup and drop locations. So, we must remove those duplicate entries.\n",
    "- If there're ride requests within 8 minuntes of the last booking time, consider only 1 ride request from a user (latitude and longitude may or may not be the same)\n",
    "- If the geodesic distances from (pickup point and drop point) is les than 50 meters, consider that ride request as a fraud ride request.\n",
    "- Consider ride requests where pick up/drop location is outside India bounding box: ['6.2325274', '35.6745457', '68.1113787', '97.395561'] as system error\n",
    "- Karnataka is our prime city where we have a lot of drivers and ride requests to fulfill. We would not love to serve rides that are outside Karnataka and have pickup and drop geodesic distance > 500kms. Karnataka bounding box ['11.5945587', '18.4767308','74.0543908', '78.588083']"
   ]
  },
  {
   "cell_type": "markdown",
   "id": "c9b9867c",
   "metadata": {},
   "source": [
    "Based on the definition of a good ride request that the management team have given us, we're going to perform data preprocessing to only pick the set of data with good ride requests which will then be used for training our machine learning model.\n",
    "\n",
    "Company have given us data that ranges from 2020-03-26 (26th March 2020) to 2021-03-26 (26th March 2021). For deployment of the model we must build a prediction pipeline which we will use to evaluate our model by making a prediction for 2021-03-27 (26th March 2021)."
   ]
  },
  {
   "cell_type": "markdown",
   "id": "44092405",
   "metadata": {},
   "source": [
    "### Project flow and structure\n"
   ]
  },
  {
   "cell_type": "code",
   "execution_count": 21,
   "id": "4baf60c2",
   "metadata": {},
   "outputs": [
    {
     "name": "stderr",
     "output_type": "stream",
     "text": [
      "/var/folders/5p/g86ptb251wz01xb5n3ngh_gh0000gn/T/ipykernel_43462/566286545.py:3: DtypeWarning: Columns (1) have mixed types. Specify dtype option on import or set low_memory=False.\n",
      "  df = pd.read_csv(\"../../data/raw_data.csv\", compression='gzip')\n"
     ]
    }
   ],
   "source": [
    "import pandas as pd\n",
    "\n",
    "df = pd.read_csv(\"../../data/raw_data.csv\", compression='gzip')"
   ]
  },
  {
   "cell_type": "code",
   "execution_count": 22,
   "id": "aee842f5",
   "metadata": {},
   "outputs": [
    {
     "data": {
      "text/html": [
       "<div>\n",
       "<style scoped>\n",
       "    .dataframe tbody tr th:only-of-type {\n",
       "        vertical-align: middle;\n",
       "    }\n",
       "\n",
       "    .dataframe tbody tr th {\n",
       "        vertical-align: top;\n",
       "    }\n",
       "\n",
       "    .dataframe thead th {\n",
       "        text-align: right;\n",
       "    }\n",
       "</style>\n",
       "<table border=\"1\" class=\"dataframe\">\n",
       "  <thead>\n",
       "    <tr style=\"text-align: right;\">\n",
       "      <th></th>\n",
       "      <th>ts</th>\n",
       "      <th>number</th>\n",
       "      <th>pick_lat</th>\n",
       "      <th>pick_lng</th>\n",
       "      <th>drop_lat</th>\n",
       "      <th>drop_lng</th>\n",
       "    </tr>\n",
       "  </thead>\n",
       "  <tbody>\n",
       "    <tr>\n",
       "      <th>0</th>\n",
       "      <td>2020-03-26 07:07:17</td>\n",
       "      <td>14626</td>\n",
       "      <td>12.313621</td>\n",
       "      <td>76.658195</td>\n",
       "      <td>12.287301</td>\n",
       "      <td>76.602280</td>\n",
       "    </tr>\n",
       "    <tr>\n",
       "      <th>1</th>\n",
       "      <td>2020-03-26 07:32:27</td>\n",
       "      <td>85490</td>\n",
       "      <td>12.943947</td>\n",
       "      <td>77.560745</td>\n",
       "      <td>12.954014</td>\n",
       "      <td>77.543770</td>\n",
       "    </tr>\n",
       "    <tr>\n",
       "      <th>2</th>\n",
       "      <td>2020-03-26 07:36:44</td>\n",
       "      <td>05408</td>\n",
       "      <td>12.899603</td>\n",
       "      <td>77.587300</td>\n",
       "      <td>12.934780</td>\n",
       "      <td>77.569950</td>\n",
       "    </tr>\n",
       "    <tr>\n",
       "      <th>3</th>\n",
       "      <td>2020-03-26 07:38:00</td>\n",
       "      <td>58940</td>\n",
       "      <td>12.918229</td>\n",
       "      <td>77.607544</td>\n",
       "      <td>12.968971</td>\n",
       "      <td>77.636375</td>\n",
       "    </tr>\n",
       "    <tr>\n",
       "      <th>4</th>\n",
       "      <td>2020-03-26 07:39:29</td>\n",
       "      <td>05408</td>\n",
       "      <td>12.899490</td>\n",
       "      <td>77.587270</td>\n",
       "      <td>12.934780</td>\n",
       "      <td>77.569950</td>\n",
       "    </tr>\n",
       "  </tbody>\n",
       "</table>\n",
       "</div>"
      ],
      "text/plain": [
       "                    ts number   pick_lat   pick_lng   drop_lat   drop_lng\n",
       "0  2020-03-26 07:07:17  14626  12.313621  76.658195  12.287301  76.602280\n",
       "1  2020-03-26 07:32:27  85490  12.943947  77.560745  12.954014  77.543770\n",
       "2  2020-03-26 07:36:44  05408  12.899603  77.587300  12.934780  77.569950\n",
       "3  2020-03-26 07:38:00  58940  12.918229  77.607544  12.968971  77.636375\n",
       "4  2020-03-26 07:39:29  05408  12.899490  77.587270  12.934780  77.569950"
      ]
     },
     "execution_count": 22,
     "metadata": {},
     "output_type": "execute_result"
    }
   ],
   "source": [
    "df.head()"
   ]
  },
  {
   "cell_type": "code",
   "execution_count": null,
   "id": "19ec4be7",
   "metadata": {},
   "outputs": [],
   "source": []
  }
 ],
 "metadata": {
  "kernelspec": {
   "display_name": "Python 3 (ipykernel)",
   "language": "python",
   "name": "python3"
  },
  "language_info": {
   "codemirror_mode": {
    "name": "ipython",
    "version": 3
   },
   "file_extension": ".py",
   "mimetype": "text/x-python",
   "name": "python",
   "nbconvert_exporter": "python",
   "pygments_lexer": "ipython3",
   "version": "3.9.12"
  }
 },
 "nbformat": 4,
 "nbformat_minor": 5
}
